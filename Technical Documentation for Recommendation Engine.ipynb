{
 "cells": [
  {
   "cell_type": "code",
   "execution_count": 1,
   "id": "6ce14187-5316-4541-bb14-d5962a540c4f",
   "metadata": {
    "tags": [
     "hide-input"
    ]
   },
   "outputs": [],
   "source": [
    "import pandas as pd\n",
    "import numpy as np"
   ]
  },
  {
   "cell_type": "markdown",
   "id": "279bd2b1",
   "metadata": {},
   "source": [
    "## Data Exploration\n",
    "\n",
    "In this section we will explore the data to find and clean the data if necesarry. "
   ]
  },
  {
   "cell_type": "code",
   "execution_count": 2,
   "id": "124538a2-0b36-4965-8dc5-36efe124d380",
   "metadata": {},
   "outputs": [
    {
     "name": "stdout",
     "output_type": "stream",
     "text": [
      "customer_interactions dimension ==>  (5, 3)\n",
      "customer_interactions duplication ==>  0\n"
     ]
    },
    {
     "data": {
      "text/html": [
       "<div>\n",
       "<style scoped>\n",
       "    .dataframe tbody tr th:only-of-type {\n",
       "        vertical-align: middle;\n",
       "    }\n",
       "\n",
       "    .dataframe tbody tr th {\n",
       "        vertical-align: top;\n",
       "    }\n",
       "\n",
       "    .dataframe thead th {\n",
       "        text-align: right;\n",
       "    }\n",
       "</style>\n",
       "<table border=\"1\" class=\"dataframe\">\n",
       "  <thead>\n",
       "    <tr style=\"text-align: right;\">\n",
       "      <th></th>\n",
       "      <th>customer_id</th>\n",
       "      <th>page_views</th>\n",
       "      <th>time_spent</th>\n",
       "    </tr>\n",
       "  </thead>\n",
       "  <tbody>\n",
       "    <tr>\n",
       "      <th>0</th>\n",
       "      <td>1</td>\n",
       "      <td>25</td>\n",
       "      <td>120</td>\n",
       "    </tr>\n",
       "    <tr>\n",
       "      <th>1</th>\n",
       "      <td>2</td>\n",
       "      <td>20</td>\n",
       "      <td>90</td>\n",
       "    </tr>\n",
       "    <tr>\n",
       "      <th>2</th>\n",
       "      <td>3</td>\n",
       "      <td>30</td>\n",
       "      <td>150</td>\n",
       "    </tr>\n",
       "    <tr>\n",
       "      <th>3</th>\n",
       "      <td>4</td>\n",
       "      <td>15</td>\n",
       "      <td>80</td>\n",
       "    </tr>\n",
       "    <tr>\n",
       "      <th>4</th>\n",
       "      <td>5</td>\n",
       "      <td>22</td>\n",
       "      <td>110</td>\n",
       "    </tr>\n",
       "  </tbody>\n",
       "</table>\n",
       "</div>"
      ],
      "text/plain": [
       "   customer_id  page_views  time_spent\n",
       "0            1          25         120\n",
       "1            2          20          90\n",
       "2            3          30         150\n",
       "3            4          15          80\n",
       "4            5          22         110"
      ]
     },
     "execution_count": 2,
     "metadata": {},
     "output_type": "execute_result"
    }
   ],
   "source": [
    "cust = pd.read_csv('customer_interactions.csv')\n",
    "print(\"customer_interactions dimension ==> \",cust.shape)\n",
    "print(\"customer_interactions duplication ==> \",cust.duplicated().sum())\n",
    "\n",
    "cust"
   ]
  },
  {
   "cell_type": "code",
   "execution_count": 3,
   "id": "3ceb2698-6930-4700-96e5-94216f5210db",
   "metadata": {},
   "outputs": [
    {
     "name": "stdout",
     "output_type": "stream",
     "text": [
      "product_details dimension ==>  (5, 7)\n",
      "product_details duplication ==>  0\n"
     ]
    },
    {
     "data": {
      "text/html": [
       "<div>\n",
       "<style scoped>\n",
       "    .dataframe tbody tr th:only-of-type {\n",
       "        vertical-align: middle;\n",
       "    }\n",
       "\n",
       "    .dataframe tbody tr th {\n",
       "        vertical-align: top;\n",
       "    }\n",
       "\n",
       "    .dataframe thead th {\n",
       "        text-align: right;\n",
       "    }\n",
       "</style>\n",
       "<table border=\"1\" class=\"dataframe\">\n",
       "  <thead>\n",
       "    <tr style=\"text-align: right;\">\n",
       "      <th></th>\n",
       "      <th>product_id</th>\n",
       "      <th>category</th>\n",
       "      <th>price</th>\n",
       "      <th>ratings</th>\n",
       "      <th>Unnamed: 4</th>\n",
       "      <th>Unnamed: 5</th>\n",
       "      <th>Unnamed: 6</th>\n",
       "    </tr>\n",
       "  </thead>\n",
       "  <tbody>\n",
       "    <tr>\n",
       "      <th>0</th>\n",
       "      <td>101</td>\n",
       "      <td>Electronics</td>\n",
       "      <td>500</td>\n",
       "      <td>4.5</td>\n",
       "      <td>NaN</td>\n",
       "      <td>NaN</td>\n",
       "      <td>NaN</td>\n",
       "    </tr>\n",
       "    <tr>\n",
       "      <th>1</th>\n",
       "      <td>102</td>\n",
       "      <td>Clothing</td>\n",
       "      <td>50</td>\n",
       "      <td>3.8</td>\n",
       "      <td>NaN</td>\n",
       "      <td>NaN</td>\n",
       "      <td>NaN</td>\n",
       "    </tr>\n",
       "    <tr>\n",
       "      <th>2</th>\n",
       "      <td>103</td>\n",
       "      <td>Home &amp; Kitchen</td>\n",
       "      <td>200</td>\n",
       "      <td>4.2</td>\n",
       "      <td>NaN</td>\n",
       "      <td>NaN</td>\n",
       "      <td>NaN</td>\n",
       "    </tr>\n",
       "    <tr>\n",
       "      <th>3</th>\n",
       "      <td>104</td>\n",
       "      <td>Beauty</td>\n",
       "      <td>30</td>\n",
       "      <td>4.0</td>\n",
       "      <td>NaN</td>\n",
       "      <td>NaN</td>\n",
       "      <td>NaN</td>\n",
       "    </tr>\n",
       "    <tr>\n",
       "      <th>4</th>\n",
       "      <td>105</td>\n",
       "      <td>Electronics</td>\n",
       "      <td>800</td>\n",
       "      <td>4.8</td>\n",
       "      <td>NaN</td>\n",
       "      <td>NaN</td>\n",
       "      <td>NaN</td>\n",
       "    </tr>\n",
       "  </tbody>\n",
       "</table>\n",
       "</div>"
      ],
      "text/plain": [
       "   product_id        category  price  ratings  Unnamed: 4  Unnamed: 5  \\\n",
       "0         101     Electronics    500      4.5         NaN         NaN   \n",
       "1         102        Clothing     50      3.8         NaN         NaN   \n",
       "2         103  Home & Kitchen    200      4.2         NaN         NaN   \n",
       "3         104          Beauty     30      4.0         NaN         NaN   \n",
       "4         105     Electronics    800      4.8         NaN         NaN   \n",
       "\n",
       "   Unnamed: 6  \n",
       "0         NaN  \n",
       "1         NaN  \n",
       "2         NaN  \n",
       "3         NaN  \n",
       "4         NaN  "
      ]
     },
     "execution_count": 3,
     "metadata": {},
     "output_type": "execute_result"
    }
   ],
   "source": [
    "prod = pd.read_csv('product_details.csv', sep = ';')\n",
    "print(\"product_details dimension ==> \",prod.shape)\n",
    "print(\"product_details duplication ==> \",prod.duplicated().sum())\n",
    "\n",
    "prod"
   ]
  },
  {
   "cell_type": "code",
   "execution_count": 4,
   "id": "3ece353d-7265-4aac-9480-551e18f2319f",
   "metadata": {},
   "outputs": [
    {
     "name": "stdout",
     "output_type": "stream",
     "text": [
      "purchase_history dimension ==>  (6, 7)\n",
      "purchase_history duplication ==>  0\n"
     ]
    },
    {
     "data": {
      "text/html": [
       "<div>\n",
       "<style scoped>\n",
       "    .dataframe tbody tr th:only-of-type {\n",
       "        vertical-align: middle;\n",
       "    }\n",
       "\n",
       "    .dataframe tbody tr th {\n",
       "        vertical-align: top;\n",
       "    }\n",
       "\n",
       "    .dataframe thead th {\n",
       "        text-align: right;\n",
       "    }\n",
       "</style>\n",
       "<table border=\"1\" class=\"dataframe\">\n",
       "  <thead>\n",
       "    <tr style=\"text-align: right;\">\n",
       "      <th></th>\n",
       "      <th>customer_id</th>\n",
       "      <th>product_id</th>\n",
       "      <th>purchase_date</th>\n",
       "      <th>Unnamed: 3</th>\n",
       "      <th>Unnamed: 4</th>\n",
       "      <th>Unnamed: 5</th>\n",
       "      <th>Unnamed: 6</th>\n",
       "    </tr>\n",
       "  </thead>\n",
       "  <tbody>\n",
       "    <tr>\n",
       "      <th>0</th>\n",
       "      <td>1</td>\n",
       "      <td>101</td>\n",
       "      <td>2023-01-01</td>\n",
       "      <td>NaN</td>\n",
       "      <td>NaN</td>\n",
       "      <td>NaN</td>\n",
       "      <td>NaN</td>\n",
       "    </tr>\n",
       "    <tr>\n",
       "      <th>1</th>\n",
       "      <td>1</td>\n",
       "      <td>105</td>\n",
       "      <td>2023-01-05</td>\n",
       "      <td>NaN</td>\n",
       "      <td>NaN</td>\n",
       "      <td>NaN</td>\n",
       "      <td>NaN</td>\n",
       "    </tr>\n",
       "    <tr>\n",
       "      <th>2</th>\n",
       "      <td>2</td>\n",
       "      <td>102</td>\n",
       "      <td>2023-01-02</td>\n",
       "      <td>NaN</td>\n",
       "      <td>NaN</td>\n",
       "      <td>NaN</td>\n",
       "      <td>NaN</td>\n",
       "    </tr>\n",
       "    <tr>\n",
       "      <th>3</th>\n",
       "      <td>3</td>\n",
       "      <td>103</td>\n",
       "      <td>2023-01-03</td>\n",
       "      <td>NaN</td>\n",
       "      <td>NaN</td>\n",
       "      <td>NaN</td>\n",
       "      <td>NaN</td>\n",
       "    </tr>\n",
       "    <tr>\n",
       "      <th>4</th>\n",
       "      <td>4</td>\n",
       "      <td>104</td>\n",
       "      <td>2023-01-04</td>\n",
       "      <td>NaN</td>\n",
       "      <td>NaN</td>\n",
       "      <td>NaN</td>\n",
       "      <td>NaN</td>\n",
       "    </tr>\n",
       "    <tr>\n",
       "      <th>5</th>\n",
       "      <td>5</td>\n",
       "      <td>101</td>\n",
       "      <td>2023-01-05</td>\n",
       "      <td>NaN</td>\n",
       "      <td>NaN</td>\n",
       "      <td>NaN</td>\n",
       "      <td>NaN</td>\n",
       "    </tr>\n",
       "  </tbody>\n",
       "</table>\n",
       "</div>"
      ],
      "text/plain": [
       "   customer_id  product_id purchase_date  Unnamed: 3  Unnamed: 4  Unnamed: 5  \\\n",
       "0            1         101    2023-01-01         NaN         NaN         NaN   \n",
       "1            1         105    2023-01-05         NaN         NaN         NaN   \n",
       "2            2         102    2023-01-02         NaN         NaN         NaN   \n",
       "3            3         103    2023-01-03         NaN         NaN         NaN   \n",
       "4            4         104    2023-01-04         NaN         NaN         NaN   \n",
       "5            5         101    2023-01-05         NaN         NaN         NaN   \n",
       "\n",
       "   Unnamed: 6  \n",
       "0         NaN  \n",
       "1         NaN  \n",
       "2         NaN  \n",
       "3         NaN  \n",
       "4         NaN  \n",
       "5         NaN  "
      ]
     },
     "execution_count": 4,
     "metadata": {},
     "output_type": "execute_result"
    }
   ],
   "source": [
    "hist = pd.read_csv('purchase_history.csv', sep = ';')\n",
    "print(\"purchase_history dimension ==> \",hist.shape)\n",
    "print(\"purchase_history duplication ==> \",hist.duplicated().sum())\n",
    "\n",
    "hist"
   ]
  },
  {
   "cell_type": "markdown",
   "id": "2ac79ed4",
   "metadata": {},
   "source": [
    "We can see that there are no duplication in the data, and no missing value important columns. However, in the  **product_details** and **purchase_history** data there are unnecessary columns. Then we remove it using this code."
   ]
  },
  {
   "cell_type": "code",
   "execution_count": 5,
   "id": "ed973269",
   "metadata": {},
   "outputs": [
    {
     "data": {
      "text/html": [
       "<div>\n",
       "<style scoped>\n",
       "    .dataframe tbody tr th:only-of-type {\n",
       "        vertical-align: middle;\n",
       "    }\n",
       "\n",
       "    .dataframe tbody tr th {\n",
       "        vertical-align: top;\n",
       "    }\n",
       "\n",
       "    .dataframe thead th {\n",
       "        text-align: right;\n",
       "    }\n",
       "</style>\n",
       "<table border=\"1\" class=\"dataframe\">\n",
       "  <thead>\n",
       "    <tr style=\"text-align: right;\">\n",
       "      <th></th>\n",
       "      <th>customer_id</th>\n",
       "      <th>product_id</th>\n",
       "      <th>purchase_date</th>\n",
       "    </tr>\n",
       "  </thead>\n",
       "  <tbody>\n",
       "    <tr>\n",
       "      <th>0</th>\n",
       "      <td>1</td>\n",
       "      <td>101</td>\n",
       "      <td>2023-01-01</td>\n",
       "    </tr>\n",
       "    <tr>\n",
       "      <th>1</th>\n",
       "      <td>1</td>\n",
       "      <td>105</td>\n",
       "      <td>2023-01-05</td>\n",
       "    </tr>\n",
       "    <tr>\n",
       "      <th>2</th>\n",
       "      <td>2</td>\n",
       "      <td>102</td>\n",
       "      <td>2023-01-02</td>\n",
       "    </tr>\n",
       "    <tr>\n",
       "      <th>3</th>\n",
       "      <td>3</td>\n",
       "      <td>103</td>\n",
       "      <td>2023-01-03</td>\n",
       "    </tr>\n",
       "    <tr>\n",
       "      <th>4</th>\n",
       "      <td>4</td>\n",
       "      <td>104</td>\n",
       "      <td>2023-01-04</td>\n",
       "    </tr>\n",
       "  </tbody>\n",
       "</table>\n",
       "</div>"
      ],
      "text/plain": [
       "   customer_id  product_id purchase_date\n",
       "0            1         101    2023-01-01\n",
       "1            1         105    2023-01-05\n",
       "2            2         102    2023-01-02\n",
       "3            3         103    2023-01-03\n",
       "4            4         104    2023-01-04"
      ]
     },
     "execution_count": 5,
     "metadata": {},
     "output_type": "execute_result"
    }
   ],
   "source": [
    "hist = hist.dropna(how='all', axis=1)\n",
    "hist.head()"
   ]
  },
  {
   "cell_type": "code",
   "execution_count": 6,
   "id": "dd0cd5e9",
   "metadata": {},
   "outputs": [
    {
     "data": {
      "text/html": [
       "<div>\n",
       "<style scoped>\n",
       "    .dataframe tbody tr th:only-of-type {\n",
       "        vertical-align: middle;\n",
       "    }\n",
       "\n",
       "    .dataframe tbody tr th {\n",
       "        vertical-align: top;\n",
       "    }\n",
       "\n",
       "    .dataframe thead th {\n",
       "        text-align: right;\n",
       "    }\n",
       "</style>\n",
       "<table border=\"1\" class=\"dataframe\">\n",
       "  <thead>\n",
       "    <tr style=\"text-align: right;\">\n",
       "      <th></th>\n",
       "      <th>product_id</th>\n",
       "      <th>category</th>\n",
       "      <th>price</th>\n",
       "      <th>ratings</th>\n",
       "    </tr>\n",
       "  </thead>\n",
       "  <tbody>\n",
       "    <tr>\n",
       "      <th>0</th>\n",
       "      <td>101</td>\n",
       "      <td>Electronics</td>\n",
       "      <td>500</td>\n",
       "      <td>4.5</td>\n",
       "    </tr>\n",
       "    <tr>\n",
       "      <th>1</th>\n",
       "      <td>102</td>\n",
       "      <td>Clothing</td>\n",
       "      <td>50</td>\n",
       "      <td>3.8</td>\n",
       "    </tr>\n",
       "    <tr>\n",
       "      <th>2</th>\n",
       "      <td>103</td>\n",
       "      <td>Home &amp; Kitchen</td>\n",
       "      <td>200</td>\n",
       "      <td>4.2</td>\n",
       "    </tr>\n",
       "    <tr>\n",
       "      <th>3</th>\n",
       "      <td>104</td>\n",
       "      <td>Beauty</td>\n",
       "      <td>30</td>\n",
       "      <td>4.0</td>\n",
       "    </tr>\n",
       "    <tr>\n",
       "      <th>4</th>\n",
       "      <td>105</td>\n",
       "      <td>Electronics</td>\n",
       "      <td>800</td>\n",
       "      <td>4.8</td>\n",
       "    </tr>\n",
       "  </tbody>\n",
       "</table>\n",
       "</div>"
      ],
      "text/plain": [
       "   product_id        category  price  ratings\n",
       "0         101     Electronics    500      4.5\n",
       "1         102        Clothing     50      3.8\n",
       "2         103  Home & Kitchen    200      4.2\n",
       "3         104          Beauty     30      4.0\n",
       "4         105     Electronics    800      4.8"
      ]
     },
     "execution_count": 6,
     "metadata": {},
     "output_type": "execute_result"
    }
   ],
   "source": [
    "prod = prod.dropna(how='all', axis=1)\n",
    "prod.head()"
   ]
  },
  {
   "cell_type": "markdown",
   "id": "8dc4dea6",
   "metadata": {},
   "source": [
    "We remove the unwanted columns, however we have another problem which is the record number. To build a recommendation engine we need more data to mechine for learning the customer behaviour. Since we have only 5 transaction, it is not enough to make a recommendation engine. Therefore, I decide to modify the dataset by adding 30 the random transaction then save the result into the new file named *purchase_history_modify.csv* using the following code:"
   ]
  },
  {
   "cell_type": "markdown",
   "id": "60e079aa-860c-44a7-ae31-1299f75d239f",
   "metadata": {},
   "source": [
    "``` python\n",
    "from faker import Faker\n",
    "from datetime import date\n",
    "from random import randint,seed\n",
    "\n",
    "hist = pd.read_csv('purchase_history.csv', sep = ';')\n",
    "\n",
    "\n",
    "seed(2710)\n",
    "fake = Faker()\n",
    "\n",
    "dt = []\n",
    "for i in range(30):\n",
    "    dd = fake.date_between(date(2023, 1, 7), end_date=date(2023, 3, 10))\n",
    "    \n",
    "    dt.append(dd.strftime('%Y-%m-%d'))\n",
    "\n",
    "userid = []\n",
    "for i in range(30):\n",
    "    userid.append(randint(1, 5))\n",
    "\n",
    "\n",
    "prodid = []\n",
    "for i in range(30):\n",
    "    prodid.append(randint(101, 105))\n",
    "\n",
    "d_sim = pd.DataFrame({'customer_id': userid, 'product_id': prodid, 'purchase_date': dt})\n",
    "\n",
    "\n",
    "df_mod = pd.concat([hist, d_sim], ignore_index = True).sort_values('product_id')\n",
    "\n",
    "\n",
    "df_mod.to_csv('purchase_history_modify.csv')\n",
    "\n",
    "```"
   ]
  },
  {
   "cell_type": "code",
   "execution_count": 22,
   "id": "277a908e",
   "metadata": {},
   "outputs": [
    {
     "data": {
      "text/plain": [
       "<Axes: xlabel='customer_id', ylabel='number of transaction'>"
      ]
     },
     "execution_count": 22,
     "metadata": {},
     "output_type": "execute_result"
    },
    {
     "data": {
      "image/png": "[encoded data removed]",
      "text/plain": [
       "<Figure size 640x480 with 1 Axes>"
      ]
     },
     "metadata": {},
     "output_type": "display_data"
    }
   ],
   "source": [
    "import seaborn as sns\n",
    "hist = pd.read_csv('purchase_history_modify.csv')\n",
    "\n",
    "hist_agg = hist.groupby(['customer_id', 'product_id']).size().reset_index()\n",
    "hist_agg.rename(columns = {0:'number of transaction'}, inplace = True)\n",
    "hist_agg\n",
    "sns.barplot(x = 'customer_id', y = 'number of transaction', hue = 'product_id', data = hist_agg)"
   ]
  },
  {
   "cell_type": "markdown",
   "id": "27056460-22fa-453b-aa43-0e5b31cd09d0",
   "metadata": {},
   "source": [
    "After modifiying the data we can see that the transactions more vary compared to the unmodified data. With this data we can continue to build a recommendation engine."
   ]
  },
  {
   "cell_type": "markdown",
   "id": "5360e48c-7ce4-4a40-8861-81afd45f6ac3",
   "metadata": {},
   "source": [
    " ## Building recommendation engine"
   ]
  },
  {
   "attachments": {
    "cd9427be-b481-457c-9a8e-f800c68fa5e1.png": {
     "image/png": "[encoded data removed]"
    }
   },
   "cell_type": "markdown",
   "id": "c24c5f5d-8821-4464-a071-8e5e42a06918",
   "metadata": {},
   "source": [
    "Since we have a limited resouce and time, I will created a recommendation engine using Colaborative filtering. it is a technique that can filter out items that a user might like on the basis of reactions by similar users. It works by searching a large group of people and finding a smaller set of users with tastes similar to a particular user. It looks at the items they like and combines them to create a ranked list of suggestions.\n",
    "\n",
    "There are many AI or machine learning model that can make a recommendation engine, we use this method because its simplicity and it takes less resource to work with compared to other method. This method also proven useful by many big tech company such as Amazon and Netflix. We also utilize the KNN (*K Nearest Neighbor*), It works by finding the K nearest points in the training dataset and uses their class to predict the class or value of a new data point. \n",
    "\n",
    "\n",
    "The first things the we need to do is to build matrix of a reaction of Customer_Id to the Product_Id. The reaction can be *explicit* (rating on a scale of 1 to 5, likes or dislikes) or *implicit* (viewing an item, adding it to a wish list, the time spent on an article). Since we do not have the rating that are linked to the customer_id directly, therefore, we use implicit by comparing the number of purched of product by the customer.\n",
    "\n",
    "We build a matrix like as follow, with *u* is the customer_id and *i* is the product id. We can use pandas function *pivot* to build that matrix. \n",
    "\n",
    "![image.png](attachment:cd9427be-b481-457c-9a8e-f800c68fa5e1.png)\n",
    "\n",
    "\n",
    "After the matrix was build, we will create feature X  and the target Y. Before we run the KNN we transform the X into X-mean(X). The Idea is we loop through every items and customers, and predict the number of transaction of user a and item 1 based on the behaviour of other users. The code are available as follow:"
   ]
  },
  {
   "cell_type": "markdown",
   "id": "1d1566b5-2f0c-4b7c-8a66-1ee8711c7eac",
   "metadata": {},
   "source": [
    "``` python\n",
    "from sklearn.neighbors import KNeighborsRegressor\n",
    "import pandas as pd\n",
    "\n",
    "def recommendation_eng(df):\n",
    "    to_knn = df.groupby(['customer_id', 'product_id'])['purchase_date'].count().reset_index().pivot(index = 'customer_id', \n",
    "                                                                                             columns= 'product_id',  values = 'purchase_date')\n",
    "\n",
    "    # Get the average rating for each user \n",
    "    avg_ratings = to_knn.mean(axis=1)\n",
    "\n",
    "    # Center each users ratings around 0\n",
    "    user_ratings_table_centered = to_knn.apply(lambda x: x-avg_ratings, axis=0)\n",
    "\n",
    "    # Fill in the missing data with 0s\n",
    "    to_knn_fill = user_ratings_table_centered.fillna(0)\n",
    "\n",
    "    prod_l = []\n",
    "    usr_l = []\n",
    "    pred_l = []\n",
    "    for i in [101, 102, 103, 104, 105]:\n",
    "        for j in range(1, 6, 1):\n",
    "            df_knn = to_knn_fill.drop(i, axis=1)\n",
    "            target_user_x = df_knn.loc[[j]]\n",
    "            other_users_y = to_knn[i]\n",
    "\n",
    "            other_users_x = df_knn[other_users_y.notnull()]\n",
    "            other_users_y.dropna(inplace=True)\n",
    "\n",
    "            # Instantiate the user KNN model\n",
    "            user_knn = KNeighborsRegressor(metric='cosine', n_neighbors= 2)\n",
    "\n",
    "            # Fit the model and predict the target user\n",
    "            user_knn.fit(other_users_x, other_users_y)\n",
    "            user_user_pred = user_knn.predict(target_user_x)\n",
    "            prod_l.append(i)\n",
    "            usr_l.append(j)\n",
    "            pred_l.append(user_user_pred[0])\n",
    "\n",
    "    df_pred = pd.DataFrame({'product_id':prod_l, 'customer_id':usr_l, 'buy_prediction': pred_l})\n",
    "\n",
    "    #piv_pred = df_pred.pivot(index = 'customer_id', columns= 'product_id', values= 'buy_prediction')\n",
    "    \n",
    "    return df_pred\n",
    "\n",
    "```"
   ]
  },
  {
   "cell_type": "markdown",
   "id": "646ec315-15c5-48b3-964e-3472f6867c31",
   "metadata": {},
   "source": [
    "## Model Evaluation"
   ]
  },
  {
   "cell_type": "markdown",
   "id": "46d5fbd8-8eaa-4081-bba9-fbec837a7598",
   "metadata": {},
   "source": [
    "Since we do not have many data, so we can not split the data into *testing* and *train* set. Alternatively, we can just evaluate the training set. We evaluate the model using Mean Squared Error and obtain the score is 0.6528 which quite good. The code for the evaluatation is as follow:"
   ]
  },
  {
   "cell_type": "markdown",
   "id": "3189c2ad-8273-48ea-b03b-fbf2655c7e4f",
   "metadata": {},
   "source": [
    "``` python\n",
    "\n",
    "from model_rec import  recommendation_eng\n",
    "from sklearn.metrics import mean_squared_error\n",
    "\n",
    "hist = pd.read_csv('purchase_history_modify.csv')\n",
    "\n",
    "df_pred = recommendation_eng(hist)\n",
    "\n",
    "piv_pred = df_pred.pivot(index = 'customer_id', columns= 'product_id', values= 'buy_prediction').values\n",
    "\n",
    "to_knn = hist.groupby(['customer_id', 'product_id'])['purchase_date'].count().reset_index().pivot(index = 'customer_id', \n",
    "                         columns= 'product_id',  values = 'purchase_date').values\n",
    "mask = ~np.isnan(to_knn)\n",
    "\n",
    "mean_squared_error( to_knn[mask], piv_pred[mask])\n",
    "\n",
    "## 0.6527777777777778\n",
    "\n",
    "```"
   ]
  },
  {
   "cell_type": "markdown",
   "id": "101bc9a4-a351-4e98-a1fa-1fb20b90c7a3",
   "metadata": {},
   "source": [
    "## Web application"
   ]
  },
  {
   "cell_type": "markdown",
   "id": "848888f8-1645-48e7-acf1-fb892b6ea744",
   "metadata": {},
   "source": [
    "In this case I am using *shiny* from posit.co (formerly Rstudio), shiny is web application that provided for R. However, lately they support the package for Python. I am using this because the ease of use as well as they provide free deployment for the web application.\n",
    "\n",
    "Here is the explanation of the file in this repository:\n",
    "\n",
    "* **app.py** : The core of web application code, it contains of code that manage the UI and the server of the web application\n",
    "* **icon.py** : The supportive file that contain SVG for the icon\n",
    "* **model_rec.py** : The code of the recommendation engine\n",
    "* **requirements.txt** : python package that are required to be installed\n",
    "\n",
    "The code are available in this github link\n",
    "\n",
    "https://github.com/zaenalium/skillvul-test.git"
   ]
  },
  {
   "cell_type": "markdown",
   "id": "f74acfc7-583f-495f-9986-05a7c655b275",
   "metadata": {},
   "source": [
    "### How to run this code.\n",
    "\n",
    "in order to run this code make sure you are using python version 3.9.16 or latest. Then install the package requirements by typing this command.\n",
    "\n",
    "```\n",
    "git clone https://github.com/zaenalium/skillvul-test.git\n",
    "\n",
    "cd skillvul-test\n",
    "pip install -r requirements.txt\n",
    "```\n",
    "\n",
    "\n",
    "After install all the requirements, then we can start running the main code by using this command \n",
    "\n",
    "\n",
    "```\n",
    "## make sure you are still in the same directory same as the command above\n",
    "\n",
    "shiny run --reload --launch-browser app.py \n",
    "\n",
    "```\n",
    "\n",
    "Then open the browser visit this address http://127.0.0.1:8000/.  Then you will get the web application as follow:\n",
    "\n",
    "![screenshot of the web application](image.png)\n",
    "\n",
    "Please input the Customer Id for the selected Id that use want to check, and input the \"Number of Recommendation\" for how many of the recommendations. Please be noted, since we only have 5 users. The Id that allowed input is only 1, 2, 3, 4 and 5, and the recommendation also have maximum 5 number of recommended product."
   ]
  },
  {
   "cell_type": "markdown",
   "id": "58e5bf4a-acfe-482a-a624-e2dd662cb9d1",
   "metadata": {},
   "source": [
    "## Deployment\n",
    "\n",
    "I deployed the code to the https://www.shinyapps.io/. However, there was an error in the host. Thus, in the end I deployed it locally. The web application that I made can be accessed in this following link\n",
    "\n",
    "<H1>https://74d6-103-47-132-15.ngrok-free.app</H1>"
   ]
  },
  {
   "cell_type": "code",
   "execution_count": null,
   "id": "262be4c8-7462-4bc4-844e-1ecbf6f3597a",
   "metadata": {},
   "outputs": [],
   "source": []
  }
 ],
 "metadata": {
  "kernelspec": {
   "display_name": "Python 3 (ipykernel)",
   "language": "python",
   "name": "python3"
  },
  "language_info": {
   "codemirror_mode": {
    "name": "ipython",
    "version": 3
   },
   "file_extension": ".py",
   "mimetype": "text/x-python",
   "name": "python",
   "nbconvert_exporter": "python",
   "pygments_lexer": "ipython3",
   "version": "3.11.5"
  }
 },
 "nbformat": 4,
 "nbformat_minor": 5
}
